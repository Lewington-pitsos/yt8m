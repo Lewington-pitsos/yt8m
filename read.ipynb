{
 "cells": [
  {
   "cell_type": "code",
   "execution_count": 1,
   "metadata": {},
   "outputs": [
    {
     "name": "stdout",
     "output_type": "stream",
     "text": [
      "['RxRI9EIR5oU', '-0dfGrrzDxc', '-21ocG8edAY', '-40uOVBYUms', 'owlxi0VYqzM', 'ebskHwZ2nAs', 'elgTAzSrsJE', 'LL7uxaSvhdU', 'juedU7OhBsQ', 'ob09h2u6_OM', 'ocHXhXWSdT8', 'r-hfYFhif-c', 'kGzm_hxhiCc', 'kM7U7zLzUrM', 'kQGtgtaxW1A', '-QLUDJROMzQ', 'whv2hmBa1Bk', 'whiKsgSsXWk', 'wiSz_IaeN_U', 'wlnLwesvZVU', 'wmsActWMi8s', 'm_PmTab74qQ', 'majPTrGVLzc', 'mJFdB3A60Kw', 'mLc0-hBN7dw', 'mQng87f9FC0', 'JZhwRo6AdEY', '87uPE2Ws-IA', 'j_FlyoHeTsc', 'j_46DDdMSE4', 'bkwWkcuOetE', 'bobUtpmSVQw', 'WZE-2NyGpkc', 'Wa4Y5iatnjA', 'WdnIQVs9FGk', 'SCOpWjsmACw', '_sjQ7k_qSi4', 'YsflmGdgqiY', 'YyTxZ_SAN2g', 'XfbwwvVVWYU', '3NtmExdmgfE', 'NRT1Aqdpeeo', 'rOcBnlHWs2U', 'qQU6xxdqR3Y', 'qYb0lMj5RWg', 'eGlug4nnOLw', 'eL5UtKHXOmg', 'eNlIdFfPkvU', 'eOge7N-H4s8', 'eObvdP72fHs', 'WRxZdvgRZLU', 'WS5CV_YTLek', '50L63kCdIxI', '506Zi0Z9qB4', '51rpHHfhUHM', 'uFIFdEOBtps', 'afc661LJTQs', 'ckN4ZMEXKnk', 'clV1YUcQqQY', 'coewyLxjr4s', 'ct53x5zIw94', '_482GpQWl68', '_6kr38tE4B0', 'K8Cvx0XUb88', 'K9OLMZ2Pb1c', 'KEDfRs3nSXU', '6HSbSVV6ifg', '6NE_Dis2fDw', '6OW-IXHUE3U', '6OpGnw3NxPI', '5mBGjYOz-Ns', 's-ctvusXv90', 'ply8MuJWwps', 'ppUbsjq6lfE', 'rcD_Iet93iM', 'rfRvNzG1pDo', 'Ceybt1wh-4I', 'Cfd_XZ4FWXw', 'QRYNf8nizlw', 'QTnbuh7vEGE', 'QWE4UDN1Lqg', 's1jLgdFSK-A', 'ydacTFMuW_I', 'uKPK3ydB2to', 'uMjx3zrXhN8', 'uNS58BgmehM', 'uPMGpe7FMKo', 'it7c4Ly3v-c', 'ixiKmv3gC9U', 'j-uHbCojhTQ', 'j02WbYHYIxc', 'j07PX5MSjpQ', 'DiH1sCyoPb0', 'IbGSgpDQs5I', 'p-uUGd2Y2Bg', 'LmVbEEvCemY', 'LnvBi-fcadI', 'oiMLo7UciU8', 'ojeH1iquQ7I', 'okZGSPJCRFA', 'ok1YNFZhutU', 'Z8pQKjEp-6w', 'ykJV2JaPtKk', 'B013h9S3Jxs', 'B11WHa-QYJ0', 'FPNrVr5HGiA', 'p4smovE9Djk', 'p4CcubSP1mk', 'p6BNOlkfTGE', 'oKvi_maTYSc', 'oMfJfVBMZUA', 'oPibDNwmHMY', 'oR5jbYHf_PQ', 'Jww8mXCzsCQ', 'Iefm8mFea2Q', 'IuC4sf-X78g', 'h6URizGIE6k', 'BmXK2uzzxvU', 'BmcRxNgKsFk', 'BnzYkDVUVD0', 'MG3n5tPXjKg', 'XRaOFU8ARRg', 'XSSyHl6KRyY', 'xE6m6Ggnwtw', 'xHNHO362vTw', '3IqZmigv2Xw', '0dM8tJ7xtXw', 'SrtIvhqNx54', '4urvWq88DL0', '4yCleFtVKkU', '_pGE0A72vxs', 'xMlWF5CKpqA', 'aio54PBfOB8', 'fqOvGe2RN88', 'nZA2WOQ0NR4', 'LlMEtUI0t5s', '07-O3s_xyYs', 'xZIRqOqT2s0', 'xcUlFpFZuCw', 'xe-6lbcUbDM', 'c9kIRjBaVdI', 'cE2fDzbC_B0', 'rRIgPeg08HE', 'oBzFlFk-XXQ', 'oCs46q1OSKY', 'oHedh0ouynU', 'QuyziuaWVOM', 'Sh1UD4pcR3s', 'SiG3MN62A5k', 'P7XoFHinNE8', 'CqakTFsfyLM', 'hts4ME_tk4I', 'htthIPZWuds', 'huYJAn_fcCY', 'hu50f5N0Z5Y', 'hxI_Ndrw_lM', 'hzgXRh2OS9Y', 'sYca-LPXn_k', 'sZLghALOC_k', 'ic2UsCfNOYQ', 'wwwlwbVSHw4', 'hIMJklHKr8k', '2ddok5V3Sqw', '5wW0LuloPNo', '3s2PcugFUOI', 'WT0JHbCkMCY', '__j5Z_WcVgE', '_bx_mFKisVM', '_fHbT5b3QQA', 'MTw0EfHpx3E', 'YiX9i4xMF1k', 'BghzLdF1j-4', 'Bh5sDhO3EJE', 'IlMwTkomlo8', 'TuvTFARG2oo', '98zhbFI0-W0', 'VZLlATDT8GU', 'VaTWMEcZ4gk', '70ZeCtNdUKk', 'CPS0oPKt7QE', 'iYKNBEEU_z4', 'IR8mvE2z-Kc', 'JWId5S9zjxQ', '8fwF3Me5gpw', 'zGQlNOjTW7Y', 'zJzmkqRgSTE', 'zNJLemm--lc', '9mRmh1oH_7M', 'JJUxW-IJHDI', 'SvdZ5NX7M9o', 'DcRFOWjKhag', '5IBmbBdUfL8', '5KUl5MJnuG0', 'CacHdyebpCo', 'o_9HjA9M4WE', 'yEYqA5qOYww', 'TgnfxwDecDc', 'yMvrFLTciT8', '9YXMklbuTU4', '9buOic67dgw', 'Hw3W2qLjV5Q', 'I-EElCpBj_A', 'I3l_9tQ1o2o', 'Hmf_1RPgLGY', 'HoskB9a0QBg', 'R6f8V8E-WPY', 'N4VQ3H0zNDk', 'ulWfIGoZLAs', '1uklOFBmuuY', 'GDroQRdfUaE', 'GEdkBK5cHWg', 'GH7ovJpzssE', 'QkrW31o6RV8', 'QmQ1XuKAvwY', 'Xs7Oc23Lk5E', 'XwoiTvvu0nY', 'XwQX6-CrCQs', 'Xz2HjblDagQ', '_V_gp3J5d5Q', '_WeVgpcg30w', 'J-F6MKSl2Sk', 'VB2apMMfG0w', 'VFficUCYgvI', 'VHkXABaQsSQ', 'Utop-qGhVPM', 'UxFczzuQXl0', 'hqRV-mG_WNA', '9xTvoUcXkis', 'aCzYmtXkwvQ', 'aD7AKci9FeM', 'P1rLcD68eAo', 'NK3AWoEi48U', 'NNK2gJfkC3o', 'omVQi1WeBQE', '7RUtoXLVDnE', '7T_hjjQEHps', '75N40tJih7E', '77TEjW4Hocs', '78vJD7BC1dM', '79w54dVzG04', 'aztN1qfJtlg', 'b0Nmyk8KS4o', 'FZLJngzXVzw', 'Fa7aaJ-yWgs', 'Kd0P2Z0jSuA', 'KgC4aFO0kXc', 'FDaHTRHM3YA', 'FDg13lF8PY8', 'FFPSS3sDo-0', 'MBr-yA3qH0I', 'IQTD45ny44E', 'IQh_24lLz-A', 'TzLJuas8Z00', 'U34QlCR7g90', 'BL6FHyghF7c', 'BMBZlwsQbfk', 'BPlW8awMUWc', 'PoHUXFq8dR0', 'Pr45tCcnNdU', 'A3jKzO-T19s', 'A4B8QZ3K6Q4', 'RmdvTlx9C0k', 'RmtGo5sKnAk', 'RoOVts8rnAs', 'RpgdtGKCXvY', 'RpJyNeFDPN4', 'uWmss5dPeeE', 'yuwZ9O2i9Ss', 'yv8cvpeqpY4', 'z-1ieIbqkYI', 'z1KVs91ujto', 'ccRjBGtNdzo', 'chBu1urpHv4', 'cj-0PNY9Dv0', 'KTixAVskykk', 'KWD2a1gJPUE', 'KYyrnsUvwd8', 'KZ9mjz8EAuE', 'KZi8yWo6mGM', '8QiuMbUjYlU', '6RCt3zHpaX4', '6REdhwU-kJc', '6RdiuBb6DJU', '6Uo1PMwvzUc', '6Vk2j6AlZ5w', '6W6n2Nhl3HU', '6X0V8kVjJZc', 'HM4rWIo-tWE', 'HOrSwydcGZE', 'RhfheBFFKqY', 'i2bxXaRkquU', 'i5-o3Y91WTY', 'i53QEuGyBVU', 'ZTzGx6E27FA', 'ZU4y45G2iBc', 'XUVpLTxAoMI', 'wP7jLUxnOsY', 'diNEPnM5J-k', 'dj103hRzSEU', 'ZiYV9T9QJh8', 'nLIJanmBbjI', 'z7MK9R2AqI4', 'zBPEgO63-oU', 'zELBHIvj1TQ', 'O4LYeZX5knE', 'O67GBx04IkQ', 'H_bHZV4FV0E', 'H_YzeiKeQDA', 'H_1Rxc_-1QY', 'OLNtrDZt5xQ', 'OOoF9Q4nGrc', 'Ldrgevsozc4', 'LdSaErQ9La0', 'Le6bkwk9SAc', 'y6Sf2quCQlI', 'y8hbz37o0l4', 'yDvvQxbAOfA', 'bbTbKTleEGs', 'bejFJM0-OBQ', 'WPtNiIuTJKI', 'pM0h9U6izLw', 'pQADqFGjuzg', 'pUfsEm--qwM', 'pUwxvgYlnCw', 'NBUDcqJyEzo', '-BidJFMPBBc', '-EInCeQA5G8', '-JeUICho3dk', '4Nj7NQMPbME', 'X_CiBfNz3Is', 'XbYmI8a1ksE', '9Sf9SImlB-A', 'gHiCcnDBgiA', 'gJKy8gO7Grk', 'gJPNG0DAiSY', 'gLMrUKE0Um4', 'mqqoSx5Uuqg', '7jrZdLCWP90', 'JziybnEHcPI', 'Jziw756Kxdw', 'K0ozTXyWlH0', '4kvlDCq-X2Y', '4laNfIKGTs8', '4nXkLdpQw9c', '4oLj1leRP34', 'yK0rZE9Be8w', 'yLtZc6cS_MM', 'yLKXDNmTPoo', 'znzuueYcL6s', 'zpumvsPgEdY', 'LSm3nzH2N1Y', 'IKyWZ0_K7NY', 'qGl5nBKcdrU', 'qGNDYBDn99w', '1M7y_dZinO4', 'hRB4f26pNJ0', 'hUwMLvSaJnM', 'hVijcVoZ7Ec', '8zsGymZWzuA', '93Uv1BYQ_X8', '93yElbpjcRU', '96Z-7nNANqs', 'vIpYynmYuRY', 'vIwbeVENAfY', 'vI5poOKijDQ', 'vJ_wVcdH9Wc', 'ACw46vZYpMs', 'AF8zIuokzE0', 'iG7pqmwXDPU', 'iK-UWuMFt20', 'iNkaT1gHZvo', 'Apjev_41F2E', 'AtnZmZwTxkQ', 'AwWjh9s3DmU', 'Agp1BKSKW8k', 'Acdh9bRhrVk', 'iRFCNW1wJDM', 'tzvZpG-QbUA', 'u2M_pjK6A_A', 'u5QlO7KAVdM', 'u5bdvLkN9pI', 'u6QfEOKkCMA', 'u6I-vgBdQlY', 'SW0SCVSeyjA', 'SZKEDkeLPe0', 'rGRToh8_B0E', 'rKh3chuCiA8', 'fB55Dm_0eQA', 'fCxPo-KpBdU', 'zfkZ2vjFlB8', 'gPYtJBNCSXs', 'gS9gg6rYSTA', '4RGO6HQcCWs', 'sdMCkZq3-wA', 'sdsYALy5zV0', 'seMVjX4Ckj8', 'se8DTt39Vmw', 'sgtIXAfE3Rw', 'pypYyuOJ5nk', 'pytOdVuUc8Q', 'pyU3-Sz4710', 'Pgf79sfVBFg', 'n7_SxfkpqHI', 'USnkVY8udn8', 'pC-c2_a6xwk', 'pDVTiYDEzTw', '2FG4z8lVBvU', '2JreYldA-iE', 'JCKmhOolkY4', 'GojACkPc3_E', 'GrwqaJdDQaY', 'GrYq1ku5GUc', 'Gtc2pr74w38', '7n2wi2pqfa8', 'tpRUW-trmbQ', 'tsuczdLnlNY', 'ttTwap8OlVE', 'jRZJChSX9R4', 'Sw2wC6X6Shk', 'T0cIvv4pjXU', 'T0fZpVudQuo', '84bYTGGABGw', 'SVbQb4W97rI', '0Er2VYgJ_I4', 'bSvM1l406tk', 'bS2J1vE7wGI', 'bTgFYoFHxQo', '3bwinadJsUg', '3g_jcTBzh9c', '3hnf-ueTeaw', 'eFwQBwcT7H0', 'w1Ee-g4nyVI', 'w6hFB4JdjGs', 'w7QYNbkWU58', 't-ZLBjFSiow', 't18XofpTMp8', '_uaEWmOZO3w', '_xjjLx5rN0g', '3D4AgZxTZn4', '3FDyS-69WgY', '3HjEF14t5IA', 'b2sEQSPKQAo', 'fLcw7XMA9ss', 'qNFnccGvHo0', 'wbZaqrotLYE', 'wbVpFqukGtI', 'wfBAH5gm7dk', 'IY7HH2SXPDo', 'IZValqFNluU', 'IZuvwGlCH78', 'I_1-lYWnYvM', '-e5AcClRKDM', '6hjCSmdcuQE', 'Lqt6tV3lXvM', 'LrlbW7IQhoo', 'LxBPKyhgwuE', 'LyBDPl-4Idw', 'mtXPC9BCBMg', '9KVjCcDVBPw', '9LmK2FvI8T8', 'tLErxzpfXvc', 'tNunROpjvfI', 'tRM0G79mNN8', 'tSN0ikTNPXQ', '2hGRwA5WFVY', '1fOeIrsyCpk', 'Ev89ZPPKcMQ', 'RKBfMbjR9hg', '-bgTtj-Ge60', 'NfRUFcjnDXQ', 'Nh01SFtxDQY', 'NjEm4eojfrU', '6rqQ8KNjWgY', 'rp9ao2j0cEE', 'optbqoPzJ_0', 'VuAhb8bJ2ck', 'F6hB37pdkLg', '22wC3UlF3UU', '22mOMV0rbAQ', '22VjIGyG9RE', 'j78V96rvkYE', 'jBGq1bk2hwE', 'jC7WZU0KSeY', '53_2heiO5K0', '0pW1vV2d-9c', 'U_vFBKDITmU', 'guXj5bFdzbw', 'gva2yPQ4-hY', 'h02FePgufkM', '0uwebYD-dlU', '0v48p7niJ1Y', '0xeiCaBXenw', '0y4-rqPa74M', '10LctBOy2JE', 'l7iFRN4Ce3E', 'l8fpNXThvFE', 'lAtECLsoo2g', 'c33E1hXgOG4', 'c4bRTCD3Kck', 'sbochH_uRLU', '0_q37XuiAPo', '0_gEkLGiCEg', 'mToFaZcwgKg', 'J0VUV7Gxh8s', 'mX2iPkqxJGM', 'mXydcJ6JOlg', 'mY9rMxUbBFM', 'ZBlh1guzZ34', 'wA670VNMfD0', 'wCOTHS1Ix0s', 'aunDJq9UXLw', 'g_rgJib95rU', 'gad-h5WOldY', '5Zlyakj6EUg', '5abxziHIOKo', '5dMru7s9YUo', '5dXRWf-aQcQ', '5dCz4s0-W_s', '2ibr2Hq6Zqc', '2ia1B7DoTqI', 'FVjzlOSt3JQ', 'daER1EhoFEg', 'te5Oc-V5wEk', 'tjn2SRoqIcA', 'tlF6da-vxjY', 'lUm42FjKAGI', 'lWIKp7oz7sg', 'GXMwcHVs46w', 'JPopWWIl1-k', '1BhHOEgbO5o', '1BF_XumsVJw', 'hXn4HCTHwzs', 'hZSxJ9X1Yvo', 'h_h6oH7se8w', 'hdA1ENZ6M50', 'J4bgQcQUFx8', 'QaGmmkaajBg', 'QbO2zW7l0a4', 'Qh1rDkqyj7w', 'snJqDBpZ5lY', 'stbcJg87nRI', 'sxAeZp6ZdqI', '32nexheiGKQ', 'TRNIQDMCbiA', 'TT8MCFFOywo', 'TZ3EyaJtAcg', 'Ta65seU5G0Y', 'd9iZS4drpIs', 'dC4gHZRma68', 'dD-QtLZXMKY', 'o31tTQXyGVU', 'S546Y_hf2V0', 'S8EU9Gb8NQQ', 'mdbqB1_LiLw', '4W7eku7mx4E', '4XxnWDMyHR4', 'U8u_QjHS-7s', '4bgFWG-KSaA', '4cvKgoB1CGg', '0fHwfWlwMP4', 'o7y2v80q2vo', '2sYcbZ9VGbI', 'D_bzQMMPFTE', 'DaF_7bZS0Fs', 'Ju8TujEoxLU', 'LG1SUXiu_Gc', 'ln_NQ55bPkg', 'loOPnYVmW28', 'Z2H_w4JZXlU', '29NOPSjiLX8', '2C2NOpc3WWo', '2DEq44o-3Gc', 'YGXva1J-jK0', '5s5Q_4bC2T4', 'ug9s90MLD0I', 'uhjR32v8D78', 'uk8Q7CxNilM', 'bHcwTx7YtEo', 'bK7ivBYQ9Dw', 'jm8wmFCuc0w', 'WJ5ReR2P5bU', 'kaEm5iwBJW8', 'hjsRacSAEzg', 'hjnZV74ZRro', 'hjAhS-nCJvs', 'hl7wbUfACUs', 'RuAdBYvnI94', 'BE6N9_SWiT8', 'BE5VMplW4Iw', 'BFGOrKAMUr0', 'Y2CnYpaVDtM', 'SDS1MxJEN7E', 'MhdbgXKWlAc', 'MmGPiBzYPuY', 'Mo4blQ9gtOk', 'dy-jDp8qXN4', 'e4508hLRFrw', 'x77yJZuMavI', 'YBt_gIyfw0c', 'wxw6z0aflCA', 'MuYCWx2ldhw', 'MzKR9Szkr48', 'vj1dAh2vJQI', 'vk-ttEYMYyQ', 'vok-Pdtp50Q', 'IB7knPq8v04', 'OGbxrB71CVM', 'PCtK1oI8cTc', 'PH8T20NzVgA', 'BbVtkxSkor0', 'godzlhMHcNY', 'jFiFJvGZyug', 'jHyJAjPCags', 'jJZ15P-2Ej8', 'jKO8RBbnHxs', 'FJZyVrhIah4', 'fcYSmezmWHA', 'RN92g5XtstI', 'n1F8_0Y9WeQ', 'czZlZLbBsxA', 'd1GHbRkKr5I', 'd2xevlSp_kU', '7qzZdlIiO8k', '9HW3ls2ymNk', '1DRytXXQFJg', '1G17OjPEBXg', '1IjbEulWsqU', 'XEgQOhqLHzk', '2vpp7S9FMKk', '2xEAmac2Mtc', 'PvHKJKVTMsI', 'Pv5rmknP3LM', 'EF2iL380wdA', 'ELN76HjYNfk', 'EMs7JN1MDIQ', 'EMp8N4dvviE', 'EMhN65KGNXU', 'le3AQTUfcqg', 'lgdU7AaYjyQ', 'lh33I9ihPXA', 'lhHjKbJAFqg', 'lk01PGjneg8', 'llAtRusCWWg', '_O_PS_oWTrA', 'wRa5Q1-RGmc', '474PczB-cFk', '4AvMPHg5ANE', '2qdRQ-x7K4U', '2qcd-RXHPzM', '4fI_4bSGAfY', '4hwkaYljcSU', 'OsFfPi3hfO4', 'OuNNAZu8hyw', 'Ow7hZ3Qvfs4', 'qcdp0799P4M', 'qePjO_wH4WU', 'D1_mUFA_rtw', 'D2WehMNUWyU', 'UdfqC7AEP2w', 'UkT07MDGZmw', 'Um8Nowrt7C4', 'CFgzCBIHru8', 'CGL3Fzc35c0', 'CMyjT90sId8', '0L3ni7MH4oE', '0V3gJl0OMBw', 'fUaSbmUHp9Q', 'fUWrROak5TE', 'VJh_CHzXypA', 'VMRW6y3bfpE', 'VMyOiua8nwI', 'VN_q4lTzFbs', '3Cg9Q19QDk8', 't6A4osvHMqc', 'PQulFkLzuhY', 'PWcOj351fgs', '6xZGPDp31X0', '7-gpZSUCyYM', 'K5KKusk5_iA', 'pYGocU0eZUA', 'pZT7I-YZ9LE', 'pbSd6RSh77Q', 'pd_HfFnNyV4', 'E6yOEaHaOSE', 'SJy6kZzkAHE', '5ot7_SvbdDM', '5p-Veh1MrRU', 'DC4FTH2T_gA', 'DII5IJfZep0', 'h8wqV3vsiJU', 'h8tieDMDxww', 'jvj72NzlSF0', 'k1jrDI93fBE', 'vW52g09Hh7E', 'v_6oxD-SCqw', 'va5FPG4lzTg', 'aVbJL6aLfUc', 'RX1FnkXzVc8', 'apfvmE65tnQ', 'aqFzF6wYMVY', 'aqHBWoE8AMI', 'ard_FFvVSlo', 'at1WpBw99tY', 'Ky8CdeINIL4', 'dKy0U4uDxI4', 'gkFV7d3Xj2w', 'g7fvx06I9R8', 'HfP86Jo8sCk', 'HhSWi4ztXCo', 'Gx3yQZsr1Uk', 'TpD4--nbWII', 'TqDZQ2GhICs', 'LCxIg8uMOr4', '3OcW2me5o4w', '3OFa8soa8nQ', '3YvUAKUp1ME', 'QF0PsoTduy0', 'QFsQ2lwPL8w', 'Wmn-cRIukXs', 'WoZBp5Mpwro', 'WovRGlWMiIs', '_DmZiMFBWL0', '_E6f0zTYaEc', '_JwE4fHUWbU', 'ChtPV7poH5E', 'CifJBPCGxPY', 'Cj4XKkrIVEw', '8V8w8i9XDt8', '8X2SwKC6cCQ', '8XH4N_C2Lbs', '8_DnQGSlBHg', 'C2hQuFcy3NI', 'xOcG1x4AhBk', 'xSxfOS9c_dE', 'ZId-cgbytfI', 'ZLxxqNtueDY', 'ZLXbJYP964U', '0cT78MS6-Eg', '55X2mLm4baE', 'b5rShnvZWhg', 'b7SkTIspf6Y', 'bEva2vi--lY', 'FxrPzU3ZVMI', 'FU36CDKgiWI', 'ZZz1Q5aA6Gg', 'ZZGwle80SUg', '8pzA2ugHZPw', 'koeYeoJfIvg', 'kqcW9ni9q2o', 'kuSI9akJ9_s', 'kwAJoQ6gjbE', 'fi54VaGo8og', 'YcmolwzphKQ', 'YcGHQLGNW8Q', 'RqiAy2R_Tww', 'NrUMhiPOeGo', 'Ef8Wv8Iwu9I', 'EfkBh4OlUYw', 'Eg_0Jd1ubLY', 'gVl-gECdD08', 'PBqlT3YT_iY', 'e61ejWiJeos', 'e6qvhcGENzU', 'Ye2IVRh050M', 'LZFOQu81ywQ', 'JFT1xysN4kM', 'ewWTSWL-JA8', 'dRULGlz74Wc', 'dSPoZkj4fd0', 'mwUfag-E5-8', 'mwZDHiBT1oI', '1TkA77KFtyc', '1UKobWjVhpU', 'N0QSMHAD37s', '2OjzIRXoMqw', '0mD_O-Z2_LY', '0o1A9T4h-yg', '_lXbeYW_gNs', 'a0DfYQfUO3A', 'SLMAhVuOIL8', 'xtPZssQKUNU', 'xuV3T7AzeS8', 'xuDA68XHPnc', 'xw6WzyUu5gk', 'GboaDkvz3oY', 'GgHlX0KOKlQ', 'e_XyMN0Fcic', 'hpw-dwPe0Ds', 'xjCCOI3nLRY', 'fFY2g73M1dY', 'fHzI68NzR3k', 'fsuzsueqpsQ', 'fsmxdJg_kpI', 'fw9RGL-7kgc', 'fytcmhTraYM', 'g-HAsuPKp6U', 'g-_-B5HBRlY', 'iiy_-nWUHIw', 'ijDmoQHqwHE', 'iqgR4qxRWcY', 'irs57uWKDnU', 'P-u5JrZrVJM', 'lFwnU-oDe20', 'Xobpt0Cxmi8', '1RvBnf-2YzQ', '1SmNAcucMmY', 'THQNZ8-9Q8k', 'TI01zikrAtw', 'TMsL2zcF_pE', 'TMoCAIq8sbM', 'TPAxRf7Wkyk', 'cG8azLIEfFY', 'cIZ0H-EYvig', 'cIGz1z1sJTs', 'aExF1HW8YDk', 'aGiw-sLumuk', 'aJlaiUkPgUI', 'F1nGX78j8aA', 'XhV032oEm78', 'Xhge4R6Q8hI', '-NDKMdBbbC8', '-NfhaAtA5aI', '-PJgwsgddPQ', 'NYIFuSE5SYc', 'NY0UMG_oJ-A', 'Nbw6BaxUouU', 'NcgtLT1HXv8', 'NdY6hz72Tpo', 'ZeR8Fl9BDZk', 'PJs59zsEoDM', 'OfjSV3loivQ', 'v2RCZ2DEiZs', 'v5kEU3MxVow', 'TFK4c9u8VHI', 'wT8i4450y0M', 'wTTG3b1BkE8', 'HUmPPwsoq9k', '4jVqOHVvoJw', 'ZpHoRmwecHU', 'ZqNZXmxOaXU', '0HuNcHqts_s', 'GQtJwFnnlaM', 'DuYhGRixKU0', '3vjZChhZOec', 'C98HlV4_sak', 'C97kgB_f8uM', 'mg3qRkxWaA0', 'miy0U2qx0KY', '9sP5I65IpUA', 'cTAeOkClnqc', 'rN83WcMq7KI', 'O_-QY9cmGGo', 'sUjkIxekteE', 'uxZTPIdvr4k', 'uyzNfFooda4', 'uy6qyo9IOik', 'V4S3_OvFpuI', 'V7qT2i_ncyA', 'c-a_c5YRUYM', 'c-G81x_OEQk', 'RPb8B3hCDMA', 'yYki4pUrZLg', '9R_F6TXTsdw', '7GglSjRPAHU', '7IaQSu-xqTo', '7Ogo-cuP5wo', 'osCUYWjpu-Q', '-qpixujlem8', 'vL7T92H6Dhk', 'vPlt5pyxWME', 'rA2p6Ctwsn8', 'rBF_otiSulc', 'vqNe034Ba5Y', 'vzuYAWQ5CRc', 'KNO5pFxHymE', 'KPgYe8cHkko', 'sQvrvVR4wgQ', '0I3gPO2vWAY', 'a2LAOqkuIlw', 'k6xvpcQwkQs', 'k7x-sCwCI9o', '9D_mqiOk4HI', '9FNyQt8sbFY', 'HrmcCyz0_5A', 'BTUzczjaXd8', 'bM0DMsfZYzk', 'kf6vJujbsfo', 'Ioh1H5NGH8g', 'nrtEux0w9Hg', 'nuMTLxYLCYc', 'J8XSM2XjlMk', '_mrp9TuXk1w', 'kxm9IzZ7ugw', 'l3ECgQcfDFU', 'VzVv7sqUtPg', 'W-0UZ9JqluQ', 'W6d0-tSt8eI', 'H4Q9USpfaDE', 'H6iSV7bnTto', 'dosSbniBxpg', 'dpGQO9CeD3c', 'dtvQBCgjlFg', 'FlSxemCavGY', '2XBltPGa39Q', 'jiE0aE6_5AM', '_1lhlbUXwOo', 'iXSFKSl0PmY', '62yDcY3ve90']\n",
      "<class 'str'>\n"
     ]
    },
    {
     "name": "stderr",
     "output_type": "stream",
     "text": [
      "2024-09-08 10:34:26.311703: I tensorflow/core/framework/local_rendezvous.cc:404] Local rendezvous is aborting with status: OUT_OF_RANGE: End of sequence\n"
     ]
    }
   ],
   "source": [
    "import tensorflow as tf\n",
    "\n",
    "path = 'video/video_ids.train0208.tfrecord'\n",
    "\n",
    "def _parse_function(proto):\n",
    "    keys_to_features = {\n",
    "        'id': tf.io.FixedLenFeature([], tf.string),\n",
    "        'labels': tf.io.VarLenFeature(tf.int64),\n",
    "        'video_id': tf.io.FixedLenFeature([], tf.string)\n",
    "    }\n",
    "    return tf.io.parse_single_example(proto, keys_to_features)\n",
    "\n",
    "def view(input_path):\n",
    "    dataset = tf.data.TFRecordDataset(input_path)\n",
    "    dataset = dataset.map(_parse_function)\n",
    "    \n",
    "    ids = []\n",
    "    for record in dataset:\n",
    "        # print(record['id'].numpy().decode('utf-8'), record['video_id'].numpy().decode('utf-8'))\n",
    "        ids.append(record['video_id'].numpy().decode('utf-8'))\n",
    "\n",
    "    print(ids)\n",
    "    print(type(ids[0]))\n",
    "\n",
    "# Run the async function to update the TFRecord\n",
    "view(path)\n"
   ]
  },
  {
   "cell_type": "code",
   "execution_count": 4,
   "metadata": {},
   "outputs": [
    {
     "name": "stdout",
     "output_type": "stream",
     "text": [
      "channelId: [b'UCQJL_GN-mKW5QLpbK2PJk9g' b'UCOj5e5vveMzgwv2hHOFODLA']\n",
      "channelTitle: [b'Maciej Tomaszyk' b'Yarasky']\n",
      "commentCount: [b'12' b'144']\n",
      "description: [b'Nowa, lepsza wersja(zmniejszone napisy, inne proporcje ekranu) niedawno wyemitowanego przez MoonScoopa trailera Kod Lyoko Ewolucja, z polskimi napisami. T\\xc5\\x82umaczenie na podstawie tesktu angielskiego z komentarzy do oryginalnego trailera, a umieszczonego tu: http://forum.codelyoko.pl/viewtopic.php?f=11&t=7&start=650#p34104\\nW niekt\\xc3\\xb3rych momentach nie by\\xc5\\x82em jednak do ko\\xc5\\x84ca pewien jak przet\\xc5\\x82umaczy\\xc4\\x87, tak wi\\xc4\\x99c za wszelkie b\\xc5\\x82\\xc4\\x99dy z g\\xc3\\xb3ry przepraszam.\\nWykonane dla: kodlyokopowr\\xc3\\xb3txany.bnx.pl... i wszystkich fan\\xc3\\xb3w Kodu Lyoko oczywi\\xc5\\x9bcie;)'\n",
      " b'Kunnen we de 800 duimpjes omhoog halen?\\n\\xe2\\x9e\\x9c Studio Spawntrappen - http://youtu.be/BhHlNqsiT5k\\n\\xe2\\x9e\\x9c Magma Triple Kills - http://youtu.be/K5IZXwKCwV8\\n\\n\\xe2\\x97\\x8f Twitter - https://twitter.com/YaraskyGaming\\n\\xe2\\x97\\x8f Twitch - http://www.twitch.tv/yaraskygaming\\n\\xe2\\x97\\x8f Facebook - http://www.facebook.com/YaraskyGaming\\n\\n\\xe2\\x97\\x8f Sponsor GameGear - http://www.gamegear.be/\\n\\xe2\\x97\\x8f Sponsor Kinguin - http://goo.gl/Oz8w3']\n",
      "duration_seconds: [145. 153.]\n",
      "favoriteCount: [b'0' b'0']\n",
      "likeCount: [b'15' b'949']\n",
      "publishedAt: [b'2012-12-25T01:54:23Z' b'2013-05-19T15:43:38Z']\n",
      "tags: [b'Trailer, Official Trailer, polish, polski, napisy pl, polish sub, code lyoko evolution pl, code lyoko evolution, Poland (Country), Teaser Trailer'\n",
      " b'Yarasky, Jan, YaraskyGaming, Gaming, Dutch, Commentary, Dutch Commentary, Nederland, Nederlands, Commentaar, Black, Ops, Call, of, Duty, Call of Duty, COD, Black Ops 2, BO2, Tips, Tricks, Epic, Hilarious, Grappig, Funny, Comeback, Community, Tactics, best, content, must, see, watch, Number 1, Nummer, PS3, Playstation, Store, Giveaway, Gratis, Spullen, Xbox, Xbox360, Premium, PC, Computer, Gamer, nuclear, ghosts, release, new, create, class, points, system, awesome, epic, funny, real, ghost, idea, great, appreciate']\n",
      "title: [b'KLPX TV -  Code Lyoko Evolution oficjalny trailer - napisy pl 2.0'\n",
      " b'Black Ops 2 - Ghosts Punten Systeem Idee\\xc3\\xabn? - Fast Nuketown GunGame (Dutch Commentary)']\n",
      "videoId: [b'1RvBnf-2YzQ' b'Xobpt0Cxmi8']\n",
      "viewCount: [b'5757' b'6034']\n"
     ]
    }
   ],
   "source": [
    "import h5py\n",
    "import numpy as np\n",
    "from PIL import Image\n",
    "\n",
    "def read_hdf5(file_path):\n",
    "    data = {}\n",
    "    with h5py.File(file_path, 'r') as hf:\n",
    "        for key in hf.keys():\n",
    "            # Check if data is an image\n",
    "            if key == 'thumbnailStandard':\n",
    "                # Convert array back to image\n",
    "                images = [Image.fromarray(img) for img in hf[key][:]]\n",
    "                data[key] = images\n",
    "            else:\n",
    "                data[key] = hf[key][:]\n",
    "\n",
    "    return data\n",
    "\n",
    "def main():\n",
    "    file_path = 'youtube_video_details.hdf5'\n",
    "    data = read_hdf5(file_path)\n",
    "\n",
    "    # Output some data to verify\n",
    "    for key, value in data.items():\n",
    "        if key == 'thumbnailStandard':\n",
    "            # Display the first image to check\n",
    "            value[1].show()\n",
    "        else:\n",
    "            print(f\"{key}: {value}\")\n",
    "\n",
    "if __name__ == \"__main__\":\n",
    "    main()\n"
   ]
  },
  {
   "cell_type": "code",
   "execution_count": 2,
   "metadata": {},
   "outputs": [
    {
     "data": {
      "text/plain": [
       "Index(['title', 'tags', 'viewCount', 'likeCount', 'favoriteCount',\n",
       "       'commentCount', 'description', 'channelId', 'channelTitle',\n",
       "       'publishedAt', 'thumbnailStandard', 'duration_seconds'],\n",
       "      dtype='object')"
      ]
     },
     "execution_count": 2,
     "metadata": {},
     "output_type": "execute_result"
    }
   ],
   "source": [
    "df.columns"
   ]
  },
  {
   "cell_type": "code",
   "execution_count": null,
   "metadata": {},
   "outputs": [],
   "source": []
  }
 ],
 "metadata": {
  "kernelspec": {
   "display_name": "v",
   "language": "python",
   "name": "python3"
  },
  "language_info": {
   "codemirror_mode": {
    "name": "ipython",
    "version": 3
   },
   "file_extension": ".py",
   "mimetype": "text/x-python",
   "name": "python",
   "nbconvert_exporter": "python",
   "pygments_lexer": "ipython3",
   "version": "3.10.14"
  }
 },
 "nbformat": 4,
 "nbformat_minor": 2
}
